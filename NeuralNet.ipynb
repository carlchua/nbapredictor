{
 "cells": [
  {
   "cell_type": "code",
   "execution_count": 2,
   "metadata": {},
   "outputs": [],
   "source": [
    "import sys\n",
    "import tensorflow as tf\n",
    "from tensorflow import keras\n",
    "from tensorflow.keras import layers\n",
    "from tensorflow.keras.layers.experimental import preprocessing\n",
    "import numpy as np\n",
    "import pandas as pd\n",
    "import matplotlib.pyplot as plt\n",
    "import seaborn as sb\n",
    "import glob\n",
    "import os\n",
    "import shutil\n",
    "\n",
    "parent_dir = os.getcwd()"
   ]
  },
  {
   "cell_type": "markdown",
   "metadata": {},
   "source": [
    "#### Convert Training Data to DataFrames for the Neural Network"
   ]
  },
  {
   "cell_type": "code",
   "execution_count": 9,
   "metadata": {},
   "outputs": [
    {
     "name": "stdout",
     "output_type": "stream",
     "text": [
      "   1OffRtg  1DefRtg  1NetRtg  1AST%  1ASTRatio  1OREB%  1DREB%  1REB%  1TOV%  \\\n",
      "0    104.5     98.8      5.7   54.3       16.5    24.6    72.3   49.3   17.0   \n",
      "1    109.0    104.1      4.9   59.9       17.4    37.6    69.1   53.5   17.4   \n",
      "2    108.7     98.0     10.7   57.8       16.8    33.7    70.9   52.2   15.2   \n",
      "3    107.6    115.4     -7.7   60.7       17.2    29.2    63.0   45.0   12.0   \n",
      "4    101.5    105.9     -4.5   68.5       20.2    26.6    69.2   49.6   17.7   \n",
      "\n",
      "   1eFG%  ...  2ASTRatio  2OREB%  2DREB%  2REB%  2TOV%  2eFG%  2TS%  2PACE  \\\n",
      "0   52.2  ...       16.8    24.4    76.1   47.5   15.1   46.7  52.3  97.38   \n",
      "1   50.5  ...       17.0    36.0    69.2   53.8   17.1   48.5  52.4  89.90   \n",
      "2   50.5  ...       15.9    25.2    66.8   49.0   19.5   53.4  59.2  94.80   \n",
      "3   50.2  ...       15.5    30.4    71.6   51.0   15.5   45.1  48.8  93.63   \n",
      "4   52.8  ...       15.9    34.5    65.3   50.0   16.8   48.6  52.4  90.20   \n",
      "\n",
      "   2PIE  net  \n",
      "0  45.4   11  \n",
      "1  56.3    1  \n",
      "2  55.2   -8  \n",
      "3  47.6   19  \n",
      "4  49.3    8  \n",
      "\n",
      "[5 rows x 27 columns]\n"
     ]
    }
   ],
   "source": [
    "training_path = os.path.join(parent_dir, \"training_data\")\n",
    "training_files = glob.glob(training_path + \"/*.csv\")\n",
    "data = []\n",
    "for file in training_files:\n",
    "    df = pd.read_csv(file, usecols = [i for i in range(1, 42)])\n",
    "    df = df.drop(['team1', 'team1pts','team2', 'team2pts', '1GP', '2GP', '1W', '2W', '1L', '2L'], axis=1)\n",
    "    df = df.drop(['1MIN', '2MIN','1AST/TO', '2AST/TO'], axis = 1)\n",
    "    data.append(df)\n",
    "\n",
    "training_data = pd.concat(data, axis=0, ignore_index=True)\n",
    "print(training_data.head())"
   ]
  },
  {
   "cell_type": "markdown",
   "metadata": {},
   "source": [
    "#### Convert Validation Data to DataFrames for the Neural Network"
   ]
  },
  {
   "cell_type": "code",
   "execution_count": 4,
   "metadata": {},
   "outputs": [],
   "source": [
    "test_path = os.path.join(parent_dir, \"test_data\")\n",
    "test_files = glob.glob(test_path + \"/*.csv\")\n",
    "data = []\n",
    "for file in test_files:\n",
    "    df = pd.read_csv(file, usecols = [i for i in range(1, 42)])\n",
    "    df = df.drop(['team1', 'team1pts','team2', 'team2pts', '1GP', '2GP', '1W', '2W', '1L', '2L'], axis=1)\n",
    "    df = df.drop(['1MIN', '2MIN','1AST/TO', '2AST/TO'], axis = 1)\n",
    "    data.append(df)\n",
    "\n",
    "test_data = pd.concat(data, axis=0, ignore_index=True)"
   ]
  },
  {
   "cell_type": "markdown",
   "metadata": {},
   "source": [
    "#### Split the Features and the Labels "
   ]
  },
  {
   "cell_type": "code",
   "execution_count": 5,
   "metadata": {},
   "outputs": [
    {
     "name": "stdout",
     "output_type": "stream",
     "text": [
      "[104.5   98.8    5.7   54.3   16.5   24.6   72.3   49.3   17.    52.2\n",
      "  56.1  100.38  56.4   99.5  105.4   -5.9   66.2   16.8   24.4   76.1\n",
      "  47.5   15.1   46.7   52.3   97.38  45.4 ]\n"
     ]
    }
   ],
   "source": [
    "training_features = training_data.copy()\n",
    "training_labels = training_features.pop('net')\n",
    "\n",
    "test_features = test_data.copy()\n",
    "test_labels = test_features.pop('net')\n",
    "\n",
    "print(training_features.to_numpy()[0])"
   ]
  },
  {
   "cell_type": "markdown",
   "metadata": {},
   "source": [
    "## Neural Net Construction"
   ]
  },
  {
   "cell_type": "code",
   "execution_count": 6,
   "metadata": {},
   "outputs": [
    {
     "data": {
      "image/png": "[encoded data removed]",
      "text/plain": [
       "<Figure size 432x288 with 1 Axes>"
      ]
     },
     "metadata": {
      "needs_background": "light"
     },
     "output_type": "display_data"
    }
   ],
   "source": [
    "##Normalize Data\n",
    "normalizer = preprocessing.Normalization()\n",
    "normalizer.adapt(np.array(training_features))\n",
    "\n",
    "model = tf.keras.Sequential()\n",
    "model.add(normalizer)\n",
    "model.add(layers.Dense(64, activation='sigmoid', activity_regularizer = tf.keras.regularizers.l1_l2(l1=0.2, l2=0.2)))\n",
    "model.add(layers.Dense(64, activation='tanh', activity_regularizer = tf.keras.regularizers.l1_l2(l1=0.2, l2=0.2)))\n",
    "model.add(layers.Dense(64, activation='relu', bias_regularizer = tf.keras.regularizers.l1_l2(l1=0.2, l2=0.2)))\n",
    "model.add(layers.Dense(64, activation='relu'))\n",
    "model.add(layers.Dense(64, activation='relu'))\n",
    "model.add(layers.Dense(64, activation='relu'))\n",
    "model.add(layers.Dense(1))\n",
    "model.compile(loss = 'mean_absolute_error', optimizer='Adam')\n",
    "\n",
    "history = model.fit(training_features, training_labels, epochs=100, verbose=0, validation_split=0.2)\n",
    "\n",
    "plt.plot(history.history['loss'], label='training_loss')\n",
    "plt.plot(history.history['val_loss'], label='validation_loss')\n",
    "plt.xlabel('Epoch')\n",
    "plt.ylabel('MAE Error in Point Differential')\n",
    "plt.legend()\n",
    "plt.grid(True)\n",
    "plt.show()"
   ]
  },
  {
   "cell_type": "markdown",
   "metadata": {},
   "source": [
    "## Neural Net Testing"
   ]
  },
  {
   "cell_type": "code",
   "execution_count": 7,
   "metadata": {},
   "outputs": [
    {
     "data": {
      "text/plain": [
       "Text(0.5, 1.0, 'Model Predicted vs Actual Point Differentials, where PD = Away Team - Home Team')"
      ]
     },
     "execution_count": 7,
     "metadata": {},
     "output_type": "execute_result"
    },
    {
     "data": {
      "image/png": "[encoded data removed]",
      "text/plain": [
       "<Figure size 432x288 with 1 Axes>"
      ]
     },
     "metadata": {
      "needs_background": "light"
     },
     "output_type": "display_data"
    }
   ],
   "source": [
    "predictions = model.predict(test_features).flatten()\n",
    "plt.scatter(predictions, test_labels)\n",
    "x = range(-80, 80)\n",
    "y = x\n",
    "plt.plot(x, y)\n",
    "plt.xlabel('Predicted Point Differentials')\n",
    "plt.ylabel('Actual Point Differentials')\n",
    "plt.title('Model Predicted vs Actual Point Differentials, where PD = Away Team - Home Team')"
   ]
  },
  {
   "cell_type": "code",
   "execution_count": 8,
   "metadata": {},
   "outputs": [
    {
     "name": "stdout",
     "output_type": "stream",
     "text": [
      "0.7130281690140845% accurate\n"
     ]
    },
    {
     "data": {
      "image/png": "[encoded data removed]",
      "text/plain": [
       "<Figure size 432x288 with 1 Axes>"
      ]
     },
     "metadata": {
      "needs_background": "light"
     },
     "output_type": "display_data"
    }
   ],
   "source": [
    "def sign(i):\n",
    "    if i<0:\n",
    "        return False\n",
    "    if i>0:\n",
    "        return True\n",
    "    return True\n",
    "\n",
    "r = len(test_labels)\n",
    "p = list(predictions)\n",
    "t = list(test_labels)\n",
    "data = [sign(p[i])==sign(t[i]) for i in range(r)]\n",
    "data = ['Correct' if i else 'Incorrect' for i in data]\n",
    "plt.hist(data)\n",
    "plt.title('Win Prediction Accuracy')\n",
    "accuracy = data.count('Correct')/len(data)\n",
    "print(str(accuracy) + '% accurate')"
   ]
  },
  {
   "cell_type": "markdown",
   "metadata": {},
   "source": [
    "## Predictor"
   ]
  },
  {
   "cell_type": "code",
   "execution_count": 10,
   "metadata": {},
   "outputs": [
    {
     "name": "stdout",
     "output_type": "stream",
     "text": [
      "Enter feature vector of inputs[104.5, 98.8, 5.7, 54.3, 24.6, 72.3, 49.3, 17, 52.2, 56.1, 100.38, 56.4]52.5, 56.1, \n"
     ]
    },
    {
     "ename": "NameError",
     "evalue": "name 'features' is not defined",
     "output_type": "error",
     "traceback": [
      "\u001b[1;31m---------------------------------------------------------------------------\u001b[0m",
      "\u001b[1;31mNameError\u001b[0m                                 Traceback (most recent call last)",
      "\u001b[1;32m<ipython-input-10-c98d817eb16c>\u001b[0m in \u001b[0;36m<module>\u001b[1;34m\u001b[0m\n\u001b[0;32m     39\u001b[0m \u001b[1;31m# ENTER TEAM 1 STATS IN THIS ORDER: OffRtg  DefRtg  NetRtg  AST%  ASTRatio  OREB%  DREB%  REB%  TOV%  eFG%  TS%  PACE  PIE  net\u001b[0m\u001b[1;33m\u001b[0m\u001b[1;33m\u001b[0m\u001b[1;33m\u001b[0m\u001b[0m\n\u001b[0;32m     40\u001b[0m \u001b[0mteam1_stats\u001b[0m \u001b[1;33m=\u001b[0m \u001b[0minput\u001b[0m\u001b[1;33m(\u001b[0m\u001b[1;34m\"Enter feature vector of inputs\"\u001b[0m\u001b[1;33m)\u001b[0m\u001b[1;33m\u001b[0m\u001b[1;33m\u001b[0m\u001b[0m\n\u001b[1;32m---> 41\u001b[1;33m \u001b[0mfeatures\u001b[0m \u001b[1;33m=\u001b[0m \u001b[0mfeatures\u001b[0m\u001b[1;33m[\u001b[0m\u001b[0mfeatures\u001b[0m\u001b[1;33m.\u001b[0m\u001b[0mcolumns\u001b[0m\u001b[1;33m]\u001b[0m\u001b[1;33m.\u001b[0m\u001b[0mastype\u001b[0m\u001b[1;33m(\u001b[0m\u001b[0mstr\u001b[0m\u001b[1;33m)\u001b[0m\u001b[1;33m.\u001b[0m\u001b[0mastype\u001b[0m\u001b[1;33m(\u001b[0m\u001b[0mfloat\u001b[0m\u001b[1;33m)\u001b[0m\u001b[1;33m\u001b[0m\u001b[1;33m\u001b[0m\u001b[0m\n\u001b[0m\u001b[0;32m     42\u001b[0m \u001b[0mscore\u001b[0m \u001b[1;33m=\u001b[0m \u001b[0mmodel\u001b[0m\u001b[1;33m.\u001b[0m\u001b[0mpredict\u001b[0m\u001b[1;33m(\u001b[0m\u001b[0mfeatures\u001b[0m\u001b[1;33m)\u001b[0m\u001b[1;33m\u001b[0m\u001b[1;33m\u001b[0m\u001b[0m\n\u001b[0;32m     43\u001b[0m \u001b[0mscore\u001b[0m \u001b[1;33m=\u001b[0m \u001b[0mscore\u001b[0m\u001b[1;33m[\u001b[0m\u001b[1;36m0\u001b[0m\u001b[1;33m]\u001b[0m\u001b[1;33m[\u001b[0m\u001b[1;36m0\u001b[0m\u001b[1;33m]\u001b[0m\u001b[1;33m\u001b[0m\u001b[1;33m\u001b[0m\u001b[0m\n",
      "\u001b[1;31mNameError\u001b[0m: name 'features' is not defined"
     ]
    }
   ],
   "source": [
    "## Using the model to make predictions\n",
    "\n",
    "# from selenium import webdriver\n",
    "# from urllib.request import urlopen\n",
    "# from bs4 import BeautifulSoup\n",
    "# import re\n",
    "# import sys\n",
    "# import shutil\n",
    "# import os\n",
    "# import time\n",
    "\n",
    "# # ENTER PARAMETERS\n",
    "# playoffs = True\n",
    "# team1 = 'Los Angeles Lakers'\n",
    "# team2 = 'Miami Heat'\n",
    "\n",
    "\n",
    "# parent_dir = os.getcwd()\n",
    "# if playoffs:\n",
    "#     url = 'https://stats.nba.com/teams/advanced/?sort=W&dir=-1&Season=2019-20&SeasonType=Playoffs&LastNGames=15'\n",
    "# else:\n",
    "#     url = 'https://stats.nba.com/teams/advanced/?sort=W&dir=-1&Season=2019-20&SeasonType=Regular&LastNGames=15'\n",
    "\n",
    "# d = webdriver.Chrome(executable_path=parent_dir+'\\chromedriver.exe')\n",
    "# d.get(url)\n",
    "\n",
    "# s = BeautifulSoup(d.page_source, 'html.parser').find('table')\n",
    "# headers, [_, *data] = [i.getText().strip() for i in s.find_all('th')], [[i.getText().strip() for i in b.find_all('td')] for b in s.find_all('tr')]\n",
    "# final_data = [i for i in data if len(i) > 1]\n",
    "# print(final_data)\n",
    "# df1 = pd.DataFrame(final_data, columns = headers[:21])\n",
    "# del df1['']\n",
    "\n",
    "# features = pd.DataFrame([(team1, team2)], columns = ['team1', 'team2'])\n",
    "\n",
    "# features = features.merge(df1.add_prefix('1'), how='left', right_on = ['1TEAM'], left_on = ['team1']).drop(['1TEAM'], axis=1)\n",
    "# features = features.merge(df1.add_prefix('2'), how='left', right_on = ['2TEAM'], left_on = ['team2']).drop(['2TEAM'], axis=1)\n",
    "\n",
    "# ENTER TEAM 1 STATS IN THIS ORDER: OffRtg  DefRtg  NetRtg  AST%  ASTRatio  OREB%  DREB%  REB%  TOV%  eFG%  TS%  PACE  PIE\n",
    "team1_stats = input(\"Enter feature vector of inputs\")\n",
    "features = features[features.columns].astype(str).astype(float)\n",
    "score = model.predict(features)\n",
    "score = score[0][0]\n",
    "\n",
    "if score>0:\n",
    "    print(\"The \"+ team1 + \" are predicted to win by \" + str(score))\n",
    "else:\n",
    "    print(\"The \"+ team2 + \" are predicted to win by \" + str(abs(score)))"
   ]
  },
  {
   "cell_type": "code",
   "execution_count": 11,
   "metadata": {},
   "outputs": [
    {
     "data": {
      "text/plain": [
       "84"
      ]
     },
     "execution_count": 11,
     "metadata": {},
     "output_type": "execute_result"
    }
   ],
   "source": [
    "len(team1_stats)"
   ]
  },
  {
   "cell_type": "code",
   "execution_count": null,
   "metadata": {},
   "outputs": [],
   "source": []
  }
 ],
 "metadata": {
  "kernelspec": {
   "display_name": "Python 3",
   "language": "python",
   "name": "python3"
  },
  "language_info": {
   "codemirror_mode": {
    "name": "ipython",
    "version": 3
   },
   "file_extension": ".py",
   "mimetype": "text/x-python",
   "name": "python",
   "nbconvert_exporter": "python",
   "pygments_lexer": "ipython3",
   "version": "3.8.5"
  }
 },
 "nbformat": 4,
 "nbformat_minor": 4
}
