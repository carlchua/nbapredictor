{
 "cells": [
  {
   "cell_type": "code",
   "execution_count": 1,
   "metadata": {},
   "outputs": [],
   "source": [
    "import sys\n",
    "import tensorflow as tf\n",
    "from tensorflow import keras\n",
    "from tensorflow.keras import layers\n",
    "from tensorflow.keras.layers.experimental import preprocessing\n",
    "import numpy as np\n",
    "import pandas as pd\n",
    "import matplotlib.pyplot as plt\n",
    "import seaborn as sb\n",
    "import glob\n",
    "import os\n",
    "import shutil\n",
    "\n",
    "parent_dir = os.getcwd()"
   ]
  },
  {
   "cell_type": "markdown",
   "metadata": {},
   "source": [
    "#### Convert Training Data to DataFrames for the Neural Network"
   ]
  },
  {
   "cell_type": "code",
   "execution_count": 2,
   "metadata": {},
   "outputs": [],
   "source": [
    "training_path = os.path.join(parent_dir, \"training_data\")\n",
    "training_files = glob.glob(training_path + \"/*.csv\")\n",
    "data = []\n",
    "for file in training_files:\n",
    "    df = pd.read_csv(file, usecols = [i for i in range(1, 42)])\n",
    "    df = df.drop(['team1','team2','1MIN', '2MIN'], axis=1)\n",
    "    data.append(df)\n",
    "\n",
    "training_data = pd.concat(data, axis=0, ignore_index=True)"
   ]
  },
  {
   "cell_type": "markdown",
   "metadata": {},
   "source": [
    "#### Convert Validation Data to DataFrames for the Neural Network"
   ]
  },
  {
   "cell_type": "code",
   "execution_count": 3,
   "metadata": {},
   "outputs": [],
   "source": [
    "test_path = os.path.join(parent_dir, \"test_data\")\n",
    "test_files = glob.glob(test_path + \"/*.csv\")\n",
    "data = []\n",
    "for file in test_files:\n",
    "    df = pd.read_csv(file, usecols = [i for i in range(1, 42)])\n",
    "    df = df.drop(['team1','team2','1MIN', '2MIN'], axis=1)\n",
    "    data.append(df)\n",
    "\n",
    "test_data = pd.concat(data, axis=0, ignore_index=True)"
   ]
  },
  {
   "cell_type": "markdown",
   "metadata": {},
   "source": [
    "#### Split the Features and the Labels "
   ]
  },
  {
   "cell_type": "code",
   "execution_count": 5,
   "metadata": {},
   "outputs": [],
   "source": [
    "training_features = training_data.copy()\n",
    "training_labels = training_features.pop('net')\n",
    "\n",
    "test_features = test_data.copy()\n",
    "test_labels = test_features.pop('net')"
   ]
  },
  {
   "cell_type": "markdown",
   "metadata": {},
   "source": [
    "## Neural Net Construction"
   ]
  },
  {
   "cell_type": "code",
   "execution_count": 9,
   "metadata": {},
   "outputs": [
    {
     "data": {
      "image/png": "[encoded data removed]",
      "text/plain": [
       "<Figure size 432x288 with 1 Axes>"
      ]
     },
     "metadata": {
      "needs_background": "light"
     },
     "output_type": "display_data"
    }
   ],
   "source": [
    "##Normalize Data\n",
    "normalizer = preprocessing.Normalization()\n",
    "normalizer.adapt(np.array(training_features))\n",
    "\n",
    "model = tf.keras.Sequential()\n",
    "model.add(normalizer)\n",
    "model.add(layers.Dense(64, activation='sigmoid'))\n",
    "model.add(layers.Dense(64, activation='relu'))\n",
    "model.add(layers.Dense(64, activation='relu'))\n",
    "model.add(layers.Dense(64, activation='relu'))\n",
    "model.add(layers.Dense(64, activation='relu'))\n",
    "model.add(layers.Dense(1))\n",
    "model.compile(loss = 'mean_squared_error', optimizer='Adam')\n",
    "\n",
    "history = model.fit(training_features, training_labels, epochs=200, verbose=0, validation_split=0.2)\n",
    "\n",
    "plt.plot(history.history['loss'], label='training_loss')\n",
    "plt.plot(history.history['val_loss'], label='validation_loss')\n",
    "plt.xlabel('Epoch')\n",
    "plt.ylabel('Error (MSE) in Point Differential')\n",
    "plt.legend()\n",
    "plt.grid(True)\n",
    "\n",
    "plt.show()"
   ]
  },
  {
   "cell_type": "code",
   "execution_count": null,
   "metadata": {},
   "outputs": [],
   "source": []
  }
 ],
 "metadata": {
  "kernelspec": {
   "display_name": "Python 3",
   "language": "python",
   "name": "python3"
  },
  "language_info": {
   "codemirror_mode": {
    "name": "ipython",
    "version": 3
   },
   "file_extension": ".py",
   "mimetype": "text/x-python",
   "name": "python",
   "nbconvert_exporter": "python",
   "pygments_lexer": "ipython3",
   "version": "3.8.3"
  }
 },
 "nbformat": 4,
 "nbformat_minor": 4
}
